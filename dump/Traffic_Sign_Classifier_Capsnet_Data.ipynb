{
 "cells": [
  {
   "cell_type": "markdown",
   "metadata": {},
   "source": [
    "# Self-Driving Car Engineer Nanodegree\n",
    "\n",
    "## Deep Learning\n",
    "\n",
    "## Project: Build a Traffic Sign Recognition Classifier\n",
    "\n",
    "In this notebook, a template is provided for you to implement your functionality in stages, which is required to successfully complete this project. If additional code is required that cannot be included in the notebook, be sure that the Python code is successfully imported and included in your submission if necessary. \n",
    "\n",
    "> **Note**: Once you have completed all of the code implementations, you need to finalize your work by exporting the iPython Notebook as an HTML document. Before exporting the notebook to html, all of the code cells need to have been run so that reviewers can see the final implementation and output. You can then export the notebook by using the menu above and navigating to  \\n\",\n",
    "    \"**File -> Download as -> HTML (.html)**. Include the finished document along with this notebook as your submission. \n",
    "\n",
    "In addition to implementing code, there is a writeup to complete. The writeup should be completed in a separate file, which can be either a markdown file or a pdf document. There is a [write up template](https://github.com/udacity/CarND-Traffic-Sign-Classifier-Project/blob/master/writeup_template.md) that can be used to guide the writing process. Completing the code template and writeup template will cover all of the [rubric points](https://review.udacity.com/#!/rubrics/481/view) for this project.\n",
    "\n",
    "The [rubric](https://review.udacity.com/#!/rubrics/481/view) contains \"Stand Out Suggestions\" for enhancing the project beyond the minimum requirements. The stand out suggestions are optional. If you decide to pursue the \"stand out suggestions\", you can include the code in this Ipython notebook and also discuss the results in the writeup file.\n",
    "\n",
    "\n",
    ">**Note:** Code and Markdown cells can be executed using the **Shift + Enter** keyboard shortcut. In addition, Markdown cells can be edited by typically double-clicking the cell to enter edit mode."
   ]
  },
  {
   "cell_type": "markdown",
   "metadata": {},
   "source": [
    "---\n",
    "## Step 0: Load The Data"
   ]
  },
  {
   "cell_type": "code",
   "execution_count": null,
   "metadata": {
    "collapsed": true
   },
   "outputs": [],
   "source": [
    "# Load pickled data\n",
    "import pickle\n",
    "import csv\n",
    "import numpy as np\n",
    "\n",
    "# TODO: Fill this in based on where you saved the training and testing data\n",
    "path=\"./Data\"\n",
    "training_file = path + \"/train.p\"\n",
    "validation_file= path +\"/valid.p\"\n",
    "testing_file = path + \"/test.p\"\n",
    "signnames_file = path + \"/signnames.csv\" \n",
    "\n",
    "  \n",
    "        \n",
    "with open(training_file, mode='rb') as f:\n",
    "    train = pickle.load(f)\n",
    "with open(validation_file, mode='rb') as f:\n",
    "    valid = pickle.load(f)\n",
    "with open(testing_file, mode='rb') as f:\n",
    "    test = pickle.load(f)\n",
    "    \n",
    "classnames = []\n",
    "with open(signnames_file, mode='r') as csvfile:\n",
    "    spamreader = csv.reader(csvfile, delimiter=',')\n",
    "    next(spamreader, None) \n",
    "    for i, row in enumerate(spamreader):\n",
    "        assert(i==int(row[0]))\n",
    "        classnames.append(row[1])  \n",
    "\n",
    "X_train, y_train = train['features'], train['labels']\n",
    "X_valid, y_valid = valid['features'], valid['labels']\n",
    "X_test, y_test = test['features'], test['labels']\n",
    "#print(classnames)\n"
   ]
  },
  {
   "cell_type": "markdown",
   "metadata": {},
   "source": [
    "---\n",
    "\n",
    "## Step 1: Dataset Summary & Exploration\n",
    "\n",
    "The pickled data is a dictionary with 4 key/value pairs:\n",
    "\n",
    "- `'features'` is a 4D array containing raw pixel data of the traffic sign images, (num examples, width, height, channels).\n",
    "- `'labels'` is a 1D array containing the label/class id of the traffic sign. The file `signnames.csv` contains id -> name mappings for each id.\n",
    "- `'sizes'` is a list containing tuples, (width, height) representing the original width and height the image.\n",
    "- `'coords'` is a list containing tuples, (x1, y1, x2, y2) representing coordinates of a bounding box around the sign in the image. **THESE COORDINATES ASSUME THE ORIGINAL IMAGE. THE PICKLED DATA CONTAINS RESIZED VERSIONS (32 by 32) OF THESE IMAGES**\n",
    "\n",
    "Complete the basic data summary below. Use python, numpy and/or pandas methods to calculate the data summary rather than hard coding the results. For example, the [pandas shape method](http://pandas.pydata.org/pandas-docs/stable/generated/pandas.DataFrame.shape.html) might be useful for calculating some of the summary results. "
   ]
  },
  {
   "cell_type": "markdown",
   "metadata": {},
   "source": [
    "### Provide a Basic Summary of the Data Set Using Python, Numpy and/or Pandas"
   ]
  },
  {
   "cell_type": "code",
   "execution_count": null,
   "metadata": {},
   "outputs": [],
   "source": [
    "### Replace each question mark with the appropriate value. \n",
    "### Use python, pandas or numpy methods rather than hard coding the results\n",
    "\n",
    "# TODO: Number of training examples\n",
    "n_train = len(X_train)\n",
    "\n",
    "# TODO: Number of validation examples\n",
    "n_validation = len(X_valid)\n",
    "\n",
    "# TODO: Number of testing examples.\n",
    "n_test = len(X_test)\n",
    "\n",
    "# TODO: What's the shape of an traffic sign image?\n",
    "image_shape = (X_train.shape)[1:4]\n",
    "\n",
    "# TODO: How many unique classes/labels there are in the dataset.\n",
    "n_classes = len(np.unique(y_train))\n",
    "\n",
    "print(\"Number of training examples =\", n_train)\n",
    "print(\"Number of validation examples =\", n_validation)\n",
    "print(\"Number of testing examples =\", n_test)\n",
    "print(\"Image data shape =\", image_shape)\n",
    "print(\"Number of classes =\", n_classes)"
   ]
  },
  {
   "cell_type": "markdown",
   "metadata": {},
   "source": [
    "### Include an exploratory visualization of the dataset"
   ]
  },
  {
   "cell_type": "markdown",
   "metadata": {},
   "source": [
    "Visualize the German Traffic Signs Dataset using the pickled file(s). This is open ended, suggestions include: plotting traffic sign images, plotting the count of each sign, etc. \n",
    "\n",
    "The [Matplotlib](http://matplotlib.org/) [examples](http://matplotlib.org/examples/index.html) and [gallery](http://matplotlib.org/gallery.html) pages are a great resource for doing visualizations in Python.\n",
    "\n",
    "**NOTE:** It's recommended you start with something simple first. If you wish to do more, come back to it after you've completed the rest of the sections. It can be interesting to look at the distribution of classes in the training, validation and test set. Is the distribution the same? Are there more examples of some classes than others?"
   ]
  },
  {
   "cell_type": "code",
   "execution_count": null,
   "metadata": {
    "collapsed": true,
    "scrolled": false
   },
   "outputs": [],
   "source": [
    "### Data exploration visualization code goes here.\n",
    "### Feel free to use as many code cells as needed.\n",
    "import matplotlib.pyplot as plt\n",
    "import cv2\n",
    "# Visualizations will be shown in the notebook.\n",
    "%matplotlib inline\n",
    "\n",
    "def GetLabelImage(index): \n",
    "    path=\"./Data\"\n",
    "    image=cv2.imread(path+'/signnames_all.jpg',1)\n",
    "    image = cv2.cvtColor(image, cv2.COLOR_BGR2RGB)\n",
    "    H, W, _ = image.shape\n",
    "    dY = H/7.\n",
    "    dX = W/7.105\n",
    "    y = index//7\n",
    "    x = index%7 \n",
    "    labelImage = image[round(y*dY):round(y*dY+dY), round(x*dX):round(x*dX+dX),:]\n",
    "    labelImage = cv2.resize(labelImage, (0,0), fx=32./dX, fy=32./dY,)\n",
    "    return labelImage\n",
    "\n",
    "def InsertSubimage(image, subImage, y, x):\n",
    "    h, w, _ = subImage.shape\n",
    "    image[y:y+h, x:x+w, :]=subImage\n",
    "    return image\n",
    "\n",
    "def CreateDataSummary(images, labels, sampleNumber, multiplier):\n",
    "    imageShape = (images.shape)[1:4]\n",
    "    all_labels=np.unique(labels).astype(int)\n",
    "    classNumber = np.amax(all_labels)+1\n",
    "    subimageWidth=imageShape[1]\n",
    "    subimageHeight=imageShape[0];\n",
    "    resultImageWidth=subimageWidth*(classNumber);\n",
    "    resultImageHeight=subimageHeight*sampleNumber;\n",
    "    resultImageChanel=imageShape[2];\n",
    "    resultImage = 255.*np.ones(shape=(resultImageHeight,resultImageWidth,resultImageChanel),dtype=np.float32)\n",
    "    cv2.putText(resultImage, \"Training data histogram\", (int(subimageWidth*0.01), int(resultImageHeight*0.05)),cv2.FONT_HERSHEY_SIMPLEX,1,(0,0,0),2)\n",
    "    for index in all_labels:\n",
    "        index=int(index)\n",
    "        labelImage = GetLabelImage(index)\n",
    "        InsertSubimage(resultImage, labelImage, resultImageHeight-subimageHeight*2, subimageWidth*index)\n",
    "        indexList = list(np.where(labels== index)[0])\n",
    "        count=len(indexList)\n",
    "        if(count>0):\n",
    "            meanImage = np.average(images[indexList], axis=0)\n",
    "            InsertSubimage(resultImage, meanImage, resultImageHeight-subimageHeight*3, subimageWidth*index)\n",
    "        totalDisplaySample=sampleNumber*multiplier;\n",
    "        percentage = float(count)/float(len(labels))\n",
    "        numberDisplaySample=int(totalDisplaySample*count/len(labels))\n",
    "        for i in range(numberDisplaySample):\n",
    "            sampleImage=images[np.random.choice(indexList)]\n",
    "            if(resultImageHeight-subimageHeight*(7+i)<0):\n",
    "                break\n",
    "            else:\n",
    "                InsertSubimage(resultImage, sampleImage, resultImageHeight-subimageHeight*(3+i), subimageWidth*index)\n",
    "        cv2.putText(resultImage, '{:.0%}'.format(percentage), (int(subimageWidth*index), int(resultImageHeight-subimageHeight*0.5)),cv2.FONT_HERSHEY_SIMPLEX,0.5,(0,0,0),2)\n",
    "    cv2.line(resultImage,(0,resultImageHeight-subimageHeight*3),(resultImageWidth,resultImageHeight-subimageHeight*3),(0,0,127),3)\n",
    "    #cv2.imwrite(path+'/train_data_summary.jpg',cv2.cvtColor(resultImage, cv2.COLOR_BGR2RGB))\n",
    "    return resultImage\n",
    "\n"
   ]
  },
  {
   "cell_type": "code",
   "execution_count": null,
   "metadata": {
    "scrolled": false
   },
   "outputs": [],
   "source": [
    "resultImage=CreateDataSummary(X_train,y_train,sampleNumber=27, multiplier=15)\n",
    "plt.rcParams[\"figure.figsize\"] = (20,25)\n",
    "plt.imshow(resultImage.astype(np.uint8))\n",
    "plt.axis('off') \n",
    "plt.show()"
   ]
  },
  {
   "cell_type": "code",
   "execution_count": null,
   "metadata": {
    "collapsed": true
   },
   "outputs": [],
   "source": [
    "import math\n",
    "import random\n",
    "def Perturb(image, angle_limit=15, scale_limit=0.1, translate_limit=3, distort_limit=3, illumin_limit=0.7):\n",
    "    (W, H, C) = image.shape\n",
    "    center = np.array([W / 2., H / 2.])\n",
    "    da = np.random.uniform(low=-1, high=1) * angle_limit/180. * math.pi\n",
    "    scale = np.random.uniform(low=-1, high=1) * scale_limit + 1\n",
    "\n",
    "    cc = scale*math.cos(da)\n",
    "    ss = scale*math.sin(da)\n",
    "    rotation    = np.array([[cc, ss],[-ss,cc]])\n",
    "    translation = np.random.uniform(low=-1, high=1, size=(1,2)) * translate_limit\n",
    "    distort     = np.random.standard_normal(size=(4,2)) * distort_limit\n",
    "\n",
    "    pts1 = np.array([[0., 0.], [0., H], [W, H], [W, 0.]])\n",
    "    pts2 = np.matmul(pts1-center, rotation) + center  + translation\n",
    "\n",
    "    #add perspective noise\n",
    "    pts2 = pts2 + distort\n",
    "\n",
    "\n",
    "    #http://milindapro.blogspot.jp/2015/05/opencv-filters-copymakeborder.html\n",
    "    matrix  = cv2.getPerspectiveTransform(pts1.astype(np.float32), pts2.astype(np.float32)) \n",
    "    perturb = cv2.warpPerspective(image, matrix, (W, H), flags=cv2.INTER_LINEAR,\n",
    "                                    borderMode=cv2.BORDER_REFLECT_101)  # BORDER_WRAP  #BORDER_REFLECT_101  #cv2.BORDER_CONSTANT  BORDER_REPLICATE\n",
    "\n",
    "    #illumination -------------\n",
    "    #from mxnet code\n",
    "    \n",
    "    #brightness\n",
    "    alpha = 1.0 + illumin_limit*random.uniform(-1, 1)\n",
    "    perturb = perturb * alpha\n",
    "    perturb = np.clip(perturb,0.,255.)\n",
    "    pass\n",
    "\n",
    "    #contrast\n",
    "    coef = np.array([[[0.299, 0.587, 0.114]]]) #rgb to gray (YCbCr) :  Y = 0.299R + 0.587G + 0.114B\n",
    "\n",
    "    alpha = 1.0 + illumin_limit*random.uniform(-1.0, 1.0)\n",
    "    gray = perturb * coef\n",
    "    gray = (3.0 * (1.0 - alpha) / gray.size) * np.sum(gray)\n",
    "    perturb *= alpha\n",
    "    perturb += gray\n",
    "    perturb = np.clip(perturb,0.,255.)\n",
    "    pass\n",
    "\n",
    "    #saturation\n",
    "    coef = np.array([[[0.299, 0.587, 0.114]]]) #rgb to gray (YCbCr) :  Y = 0.299R + 0.587G + 0.114B\n",
    "\n",
    "    alpha = 1.0 + illumin_limit*random.uniform(-1.0, 1.0)\n",
    "    gray = perturb * coef\n",
    "    gray = np.sum(gray, axis=2, keepdims=True)\n",
    "    gray *= (1.0 - alpha)\n",
    "    perturb *= alpha\n",
    "    perturb += gray\n",
    "    perturb = np.clip(perturb,0.,255.)\n",
    "    pass\n",
    "\n",
    "    return perturb\n",
    "\n",
    "def GetSampleNumber(labels,index):\n",
    "    indexList = list(np.where(labels == index)[0])\n",
    "    return len(indexList)\n",
    "\n",
    "def GetMaximumSampleNumber(labels):\n",
    "    catagoryCount=len(np.unique(labels))\n",
    "    maximumSampleCount=0\n",
    "    for catagory in range(catagoryCount):\n",
    "        count=GetSampleNumber(labels,catagory)\n",
    "        if(count > maximumSampleCount):\n",
    "            maximumSampleCount = count\n",
    "    return maximumSampleCount\n",
    "\n",
    "def EvenOutSamples(images, labels):\n",
    "    catagoryCount=len(np.unique(labels))\n",
    "    maximumSampleCount=GetMaximumSampleNumber(labels)\n",
    "    images_ext = np.empty([0, image_shape[0], image_shape[1], image_shape[2]], dtype=np.float32)\n",
    "    labels_ext = np.empty([0], dtype=np.int32)\n",
    "    for catagory in range(catagoryCount):\n",
    "        addition=maximumSampleCount - GetSampleNumber(labels,catagory)\n",
    "        indexList = list(np.where(labels == catagory)[0])\n",
    "        print(\"Generating \",catagory,\"th Catagoty, \",addition,\" to be generated\")\n",
    "        for i in range(addition):\n",
    "            index = np.random.choice(indexList)\n",
    "            newImage=Perturb(images[index,:,:,:])\n",
    "            newImage=np.reshape(newImage,(1, image_shape[0], image_shape[1], image_shape[2]))\n",
    "            images_ext = np.append(images_ext, newImage, axis=0)\n",
    "        labels_ext = np.append(labels_ext, np.full(addition, catagory, dtype=np.int32) )\n",
    "    return (images_ext,labels_ext)\n",
    "    "
   ]
  },
  {
   "cell_type": "code",
   "execution_count": null,
   "metadata": {},
   "outputs": [],
   "source": [
    "print(\"Test perturb function:\")\n",
    "index = random.randint(0, len(X_train))\n",
    "input_image = X_train[index]\n",
    "output_image =Perturb(input_image)\n",
    "output_image = output_image.squeeze()\n",
    "\n",
    "plt.figure(figsize=(3,3))\n",
    "plt.imshow(input_image.astype(np.uint8));\n",
    "print(y_train[index])\n",
    "\n",
    "plt.figure(figsize=(3,3))\n",
    "plt.imshow(output_image.astype(np.uint8));"
   ]
  },
  {
   "cell_type": "code",
   "execution_count": null,
   "metadata": {},
   "outputs": [],
   "source": [
    "images_ext,labels_ext = EvenOutSamples(X_train, y_train)\n",
    "print(\"Origional Dataset:\", n_train,\"Purturbed Dataset:\",len(labels_ext))"
   ]
  },
  {
   "cell_type": "code",
   "execution_count": null,
   "metadata": {
    "collapsed": true
   },
   "outputs": [],
   "source": [
    "X_train = np.append(X_train, images_ext, axis=0)\n",
    "y_train = np.append(y_train, labels_ext, axis=0)\n",
    "images_ext=None\n",
    "labels_ext=None"
   ]
  },
  {
   "cell_type": "code",
   "execution_count": null,
   "metadata": {},
   "outputs": [],
   "source": [
    "print(\"Origional Dataset:\", n_train,\"Full Dataset:\",len(y_train))\n",
    "resultImage=CreateDataSummary(X_train,y_train,sampleNumber=30, multiplier=64)\n",
    "plt.rcParams[\"figure.figsize\"] = (20,30)\n",
    "plt.imshow(resultImage.astype(np.uint8))\n",
    "plt.axis('off') \n",
    "plt.show()"
   ]
  },
  {
   "cell_type": "code",
   "execution_count": null,
   "metadata": {},
   "outputs": [],
   "source": [
    "# Save the data for easy access\n",
    "import os\n",
    "pickle_file = 'TrafficSignArgumented.pickle'\n",
    "if not os.path.isfile(pickle_file):\n",
    "    print('Saving data to pickle file...')\n",
    "    try:\n",
    "        with open(pickle_file, 'wb') as pfile:\n",
    "            pickle.dump(\n",
    "                {\n",
    "                    'X_train': X_train,\n",
    "                    'y_train': y_train,\n",
    "                    'X_valid': X_valid,\n",
    "                    'y_valid': y_valid,\n",
    "                    'X_test': X_test,\n",
    "                    'y_test': y_test,\n",
    "                },\n",
    "                pfile, pickle.HIGHEST_PROTOCOL)\n",
    "    except Exception as e:\n",
    "        print('Unable to save data to', pickle_file, ':', e)\n",
    "        raise\n",
    "\n",
    "print('Data cached in pickle file.')"
   ]
  },
  {
   "cell_type": "markdown",
   "metadata": {},
   "source": [
    "## Check Point 1: Image Perturbed\n",
    "Load Augumented Training Dataset"
   ]
  },
  {
   "cell_type": "code",
   "execution_count": null,
   "metadata": {},
   "outputs": [],
   "source": [
    "\n",
    "import pickle\n",
    "import csv\n",
    "import numpy as np\n",
    "\n",
    "AugumentedDataSetName='TrafficSignArgumented.pickle'\n",
    "with open(AugumentedDataSetName, mode='rb') as f:\n",
    "    AugumentedData = pickle.load(f)\n",
    "    \n",
    "X_train, y_train = AugumentedData['X_train'], AugumentedData['y_train']\n",
    "X_valid, y_valid = AugumentedData['X_valid'], AugumentedData['y_valid']\n",
    "X_test, y_test = AugumentedData['X_test'], AugumentedData['y_test']\n",
    "AugumentedData=None\n",
    "\n",
    "# TODO: Number of training examples\n",
    "n_train = len(X_train)\n",
    "\n",
    "# TODO: Number of validation examples\n",
    "n_validation = len(X_valid)\n",
    "\n",
    "# TODO: Number of testing examples.\n",
    "n_test = len(X_test)\n",
    "\n",
    "# TODO: What's the shape of an traffic sign image?\n",
    "image_shape = (X_train.shape)[1:4]\n",
    "\n",
    "# TODO: How many unique classes/labels there are in the dataset.\n",
    "n_classes = len(np.unique(y_train))\n",
    "\n",
    "print(\"Number of training examples =\", n_train)\n",
    "print(\"Number of validation examples =\", n_validation)\n",
    "print(\"Number of testing examples =\", n_test)\n",
    "print(\"Image data shape =\", image_shape)\n",
    "print(\"Number of classes =\", n_classes)"
   ]
  },
  {
   "cell_type": "code",
   "execution_count": null,
   "metadata": {
    "collapsed": true
   },
   "outputs": [],
   "source": [
    "### Preprocess the data here. It is required to normalize the data. Other preprocessing steps could include \n",
    "### converting to grayscale, etc.\n",
    "### Feel free to use as many code cells as needed."
   ]
  },
  {
   "cell_type": "markdown",
   "metadata": {},
   "source": [
    "#### Normalize the image set:"
   ]
  },
  {
   "cell_type": "code",
   "execution_count": null,
   "metadata": {
    "collapsed": true,
    "scrolled": false
   },
   "outputs": [],
   "source": [
    "import tensorflow as tf\n",
    "\n",
    "def StandardizeImage(images):\n",
    "    place = tf.placeholder(tf.float32, shape=images.shape)\n",
    "    print(place)\n",
    "    imageStd = tf.map_fn(lambda img: tf.image.per_image_standardization(img), place, dtype=tf.float32)\n",
    "    with tf.Session() as sess:\n",
    "        NewImage = sess.run(imageStd,feed_dict={place:images})\n",
    "    return NewImage"
   ]
  },
  {
   "cell_type": "code",
   "execution_count": null,
   "metadata": {},
   "outputs": [],
   "source": [
    "print(\"Test Standardization function:\")\n",
    "index = random.randint(0, len(X_train))\n",
    "input_image = np.array([X_train[index]])\n",
    "output_image =StandardizeImage(input_image)\n",
    "output_image =output_image[0]\n",
    "output_image = output_image.squeeze()\n",
    "\n",
    "input_image=input_image[0]\n",
    "plt.figure(figsize=(3,3))\n",
    "plt.imshow(input_image.astype(np.uint8));\n",
    "print(y_train[index])\n",
    "\n",
    "plt.figure(figsize=(3,3))\n",
    "plt.imshow(output_image.astype(np.uint8));"
   ]
  },
  {
   "cell_type": "code",
   "execution_count": null,
   "metadata": {
    "scrolled": true
   },
   "outputs": [],
   "source": [
    "X_train = StandardizeImage(X_train)\n",
    "X_valid = StandardizeImage(X_valid)\n",
    "X_test = StandardizeImage(X_test)"
   ]
  },
  {
   "cell_type": "code",
   "execution_count": null,
   "metadata": {},
   "outputs": [],
   "source": [
    "import os\n",
    "pickle_file = 'TrafficSignStandardized.pickle'\n",
    "if not os.path.isfile(pickle_file):\n",
    "    print('Saving data to pickle file...')\n",
    "    try:\n",
    "        with open(pickle_file, 'wb') as pfile:\n",
    "            pickle.dump(\n",
    "                {\n",
    "                    'X_train': X_train,\n",
    "                    'y_train': y_train,\n",
    "                    'X_valid': X_valid,\n",
    "                    'y_valid': y_valid,\n",
    "                    'X_test': X_test,\n",
    "                    'y_test': y_test,\n",
    "                },\n",
    "                pfile, pickle.HIGHEST_PROTOCOL)\n",
    "    except Exception as e:\n",
    "        print('Unable to save data to', pickle_file, ':', e)\n",
    "        raise\n",
    "\n",
    "print('Data cached in pickle file.')"
   ]
  },
  {
   "cell_type": "markdown",
   "metadata": {},
   "source": [
    "# Check Point 2: Image Standardized"
   ]
  },
  {
   "cell_type": "code",
   "execution_count": null,
   "metadata": {},
   "outputs": [],
   "source": [
    "import pickle\n",
    "import csv\n",
    "import numpy as np\n",
    "\n",
    "AugumentedDataSetName='TrafficSignStandardized.pickle'\n",
    "with open(AugumentedDataSetName, mode='rb') as f:\n",
    "    AugumentedData = pickle.load(f)\n",
    "    \n",
    "X_train, y_train = AugumentedData['X_train'], AugumentedData['y_train']\n",
    "X_valid, y_valid = AugumentedData['X_valid'], AugumentedData['y_valid']\n",
    "X_test, y_test = AugumentedData['X_test'], AugumentedData['y_test']\n",
    "AugumentedData=None\n",
    "\n",
    "# TODO: Number of training examples\n",
    "n_train = len(X_train)\n",
    "\n",
    "# TODO: Number of validation examples\n",
    "n_validation = len(X_valid)\n",
    "\n",
    "# TODO: Number of testing examples.\n",
    "n_test = len(X_test)\n",
    "\n",
    "# TODO: What's the shape of an traffic sign image?\n",
    "image_shape = (X_train.shape)[1:4]\n",
    "\n",
    "# TODO: How many unique classes/labels there are in the dataset.\n",
    "n_classes = len(np.unique(y_train))\n",
    "\n",
    "print(\"Number of training examples =\", n_train)\n",
    "print(\"Number of validation examples =\", n_validation)\n",
    "print(\"Number of testing examples =\", n_test)\n",
    "print(\"Image data shape =\", image_shape)\n",
    "print(\"Number of classes =\", n_classes)"
   ]
  },
  {
   "cell_type": "code",
   "execution_count": null,
   "metadata": {
    "collapsed": true
   },
   "outputs": [],
   "source": [
    "### Data exploration visualization code goes here.\n",
    "### Feel free to use as many code cells as needed.\n",
    "import matplotlib.pyplot as plt\n",
    "import cv2\n",
    "# Visualizations will be shown in the notebook.\n",
    "%matplotlib inline\n",
    "\n",
    "def GetLabelImage(index): \n",
    "    path=\"./Data\"\n",
    "    image=cv2.imread(path+'/signnames_all.jpg',1)\n",
    "    image = cv2.cvtColor(image, cv2.COLOR_BGR2RGB)\n",
    "    H, W, _ = image.shape\n",
    "    dY = H/7.\n",
    "    dX = W/7.105\n",
    "    y = index//7\n",
    "    x = index%7 \n",
    "    labelImage = image[round(y*dY):round(y*dY+dY), round(x*dX):round(x*dX+dX),:]\n",
    "    labelImage = cv2.resize(labelImage, (0,0), fx=32./dX, fy=32./dY,)\n",
    "    return labelImage\n",
    "\n",
    "def InsertSubimage(image, subImage, y, x):\n",
    "    h, w, _ = subImage.shape\n",
    "    image[y:y+h, x:x+w, :]=subImage\n",
    "    return image\n",
    "\n",
    "def CreateDataSummary(images, labels, sampleNumber, multiplier):\n",
    "    imageShape = (images.shape)[1:4]\n",
    "    all_labels=np.unique(labels).astype(int)\n",
    "    classNumber = np.amax(all_labels)+1\n",
    "    subimageWidth=imageShape[1]\n",
    "    subimageHeight=imageShape[0];\n",
    "    resultImageWidth=subimageWidth*(classNumber);\n",
    "    resultImageHeight=subimageHeight*sampleNumber;\n",
    "    resultImageChanel=imageShape[2];\n",
    "    resultImage = 255.*np.ones(shape=(resultImageHeight,resultImageWidth,resultImageChanel),dtype=np.float32)\n",
    "    cv2.putText(resultImage, \"Training data histogram\", (int(subimageWidth*0.01), int(resultImageHeight*0.05)),cv2.FONT_HERSHEY_SIMPLEX,1,(0,0,0),2)\n",
    "    for index in all_labels:\n",
    "        index=int(index)\n",
    "        labelImage = GetLabelImage(index)\n",
    "        InsertSubimage(resultImage, labelImage, resultImageHeight-subimageHeight*2, subimageWidth*index)\n",
    "        indexList = list(np.where(labels== index)[0])\n",
    "        count=len(indexList)\n",
    "        if(count>0):\n",
    "            meanImage = np.average(images[indexList], axis=0)\n",
    "            InsertSubimage(resultImage, meanImage, resultImageHeight-subimageHeight*3, subimageWidth*index)\n",
    "        totalDisplaySample=sampleNumber*multiplier;\n",
    "        percentage = float(count)/float(len(labels))\n",
    "        numberDisplaySample=int(totalDisplaySample*count/len(labels))\n",
    "        for i in range(numberDisplaySample):\n",
    "            sampleImage=images[np.random.choice(indexList)]\n",
    "            if(resultImageHeight-subimageHeight*(7+i)<0):\n",
    "                break\n",
    "            else:\n",
    "                InsertSubimage(resultImage, sampleImage, resultImageHeight-subimageHeight*(3+i), subimageWidth*index)\n",
    "        cv2.putText(resultImage, '{:.0%}'.format(percentage), (int(subimageWidth*index), int(resultImageHeight-subimageHeight*0.5)),cv2.FONT_HERSHEY_SIMPLEX,0.5,(0,0,0),2)\n",
    "    cv2.line(resultImage,(0,resultImageHeight-subimageHeight*3),(resultImageWidth,resultImageHeight-subimageHeight*3),(0,0,127),3)\n",
    "    #cv2.imwrite(path+'/train_data_summary.jpg',cv2.cvtColor(resultImage, cv2.COLOR_BGR2RGB))\n",
    "    return resultImage"
   ]
  },
  {
   "cell_type": "code",
   "execution_count": null,
   "metadata": {},
   "outputs": [],
   "source": [
    "#print(\"Origional Dataset:\", n_train,\"Entire Dataset:\",len(X_train))\n",
    "resultImage=CreateDataSummary(X_train,y_train,sampleNumber=30, multiplier=64)\n",
    "plt.rcParams[\"figure.figsize\"] = (20,30)\n",
    "plt.imshow(resultImage.astype(np.uint8))\n",
    "plt.axis('off') \n",
    "plt.show()"
   ]
  },
  {
   "cell_type": "markdown",
   "metadata": {},
   "source": [
    "#### Shuffle the training data:"
   ]
  },
  {
   "cell_type": "code",
   "execution_count": null,
   "metadata": {
    "collapsed": true
   },
   "outputs": [],
   "source": [
    "from sklearn.utils import shuffle\n",
    "\n",
    "X_train, y_train = shuffle(X_train, y_train)"
   ]
  },
  {
   "cell_type": "markdown",
   "metadata": {},
   "source": [
    "# Normalize Images"
   ]
  },
  {
   "cell_type": "markdown",
   "metadata": {},
   "source": [
    "## As Capsnet is capable of reconstructing images"
   ]
  },
  {
   "cell_type": "code",
   "execution_count": 1,
   "metadata": {},
   "outputs": [
    {
     "name": "stdout",
     "output_type": "stream",
     "text": [
      "Number of training examples = 86430\n",
      "Number of validation examples = 4410\n",
      "Number of testing examples = 12630\n",
      "Image data shape = (32, 32, 3)\n",
      "Number of classes = 43\n"
     ]
    }
   ],
   "source": [
    "import pickle\n",
    "import csv\n",
    "import numpy as np\n",
    "\n",
    "AugumentedDataSetName='TrafficSignArgumented.pickle'\n",
    "with open(AugumentedDataSetName, mode='rb') as f:\n",
    "    AugumentedData = pickle.load(f)\n",
    "    \n",
    "X_train, y_train = AugumentedData['X_train'], AugumentedData['y_train']\n",
    "X_valid, y_valid = AugumentedData['X_valid'], AugumentedData['y_valid']\n",
    "X_test, y_test = AugumentedData['X_test'], AugumentedData['y_test']\n",
    "AugumentedData=None\n",
    "\n",
    "# TODO: Number of training examples\n",
    "n_train = len(X_train)\n",
    "\n",
    "# TODO: Number of validation examples\n",
    "n_validation = len(X_valid)\n",
    "\n",
    "# TODO: Number of testing examples.\n",
    "n_test = len(X_test)\n",
    "\n",
    "# TODO: What's the shape of an traffic sign image?\n",
    "image_shape = (X_train.shape)[1:4]\n",
    "\n",
    "# TODO: How many unique classes/labels there are in the dataset.\n",
    "n_classes = len(np.unique(y_train))\n",
    "\n",
    "print(\"Number of training examples =\", n_train)\n",
    "print(\"Number of validation examples =\", n_validation)\n",
    "print(\"Number of testing examples =\", n_test)\n",
    "print(\"Image data shape =\", image_shape)\n",
    "print(\"Number of classes =\", n_classes)"
   ]
  },
  {
   "cell_type": "code",
   "execution_count": 2,
   "metadata": {},
   "outputs": [],
   "source": [
    "import tensorflow as tf\n",
    "\n",
    "def NormalizeImage(images):\n",
    "    \n",
    "    def NormalizeSingleBatch(images):\n",
    "        tf.reset_default_graph()\n",
    "        place = tf.placeholder(tf.float32, shape=images.shape)\n",
    "        max_intensity = tf.reduce_max(images,axis=[1,2,3],keep_dims=True)\n",
    "        max_intensity = tf.add(max_intensity,1.0)\n",
    "        image_unit_intensity = images*2/max_intensity\n",
    "        image_unit_intensity_zero_mean = tf.subtract(image_unit_intensity,1)\n",
    "        with tf.Session() as sess:\n",
    "            NewImage = sess.run(image_unit_intensity_zero_mean,feed_dict={place:images})\n",
    "        return NewImage\n",
    "    \n",
    "    split_size = 8192\n",
    "    data_size = images.shape[0]\n",
    "    repeat = data_size//split_size\n",
    "    size_array=np.ones(repeat)* split_size\n",
    "    size_array = np.cumsum(size_array,axis=0).astype(int)\n",
    "    images_split = np.split(images, size_array)\n",
    "    processed_images=NormalizeSingleBatch(images_split[0].astype(float))\n",
    "    for image in images_split[1:]:\n",
    "        new_image = NormalizeSingleBatch(image.astype(float))\n",
    "        processed_images = np.concatenate((processed_images,new_image),axis=0)\n",
    "    return processed_images"
   ]
  },
  {
   "cell_type": "code",
   "execution_count": 4,
   "metadata": {
    "scrolled": false
   },
   "outputs": [
    {
     "name": "stdout",
     "output_type": "stream",
     "text": [
      "Test Normalization function:\n",
      "(1, 32, 32, 3)\n",
      "The label of the image is: 31\n"
     ]
    },
    {
     "data": {
      "image/png": "[encoded data removed]",
      "text/plain": [
       "<matplotlib.figure.Figure at 0xfd89588>"
      ]
     },
     "metadata": {},
     "output_type": "display_data"
    },
    {
     "data": {
      "image/png": "[encoded data removed]",
      "text/plain": [
       "<matplotlib.figure.Figure at 0xfe3ca20>"
      ]
     },
     "metadata": {},
     "output_type": "display_data"
    }
   ],
   "source": [
    "import random\n",
    "import matplotlib.pyplot as plt\n",
    "#plt.close('all')\n",
    "print(\"Test Normalization function:\")\n",
    "index = random.randint(0, len(X_train))\n",
    "input_image = np.array([X_train[index]])\n",
    "output_image =NormalizeImage(input_image)\n",
    "print(output_image.shape)\n",
    "output_image =output_image[0]\n",
    "output_image = output_image.squeeze()\n",
    "input_image=input_image[0]\n",
    "plt.figure(figsize=(3,3))\n",
    "plt.imshow(input_image.astype(np.uint8));\n",
    "print(\"The label of the image is:\",y_train[index])\n",
    "\n",
    "#print(output_image)\n",
    "plt.figure(figsize=(3,3))\n",
    "plt.imshow(((output_image+1.0)*127).astype(np.uint8));\n",
    "plt.show()"
   ]
  },
  {
   "cell_type": "code",
   "execution_count": 5,
   "metadata": {
    "scrolled": false
   },
   "outputs": [],
   "source": [
    "X_train = NormalizeImage(X_train)\n",
    "X_valid = NormalizeImage(X_valid)\n",
    "X_test = NormalizeImage(X_test)"
   ]
  },
  {
   "cell_type": "code",
   "execution_count": 6,
   "metadata": {},
   "outputs": [
    {
     "name": "stdout",
     "output_type": "stream",
     "text": [
      "Saving data to pickle file...\n",
      "Data cached in pickle file.\n"
     ]
    }
   ],
   "source": [
    "import os\n",
    "pickle_file = 'TrafficSignNormalized_1.0.pickle'\n",
    "if not os.path.isfile(pickle_file):\n",
    "    print('Saving data to pickle file...')\n",
    "    try:\n",
    "        with open(pickle_file, 'wb') as pfile:\n",
    "            pickle.dump(\n",
    "                {\n",
    "                    'X_train': X_train,\n",
    "                    'y_train': y_train,\n",
    "                    'X_valid': X_valid,\n",
    "                    'y_valid': y_valid,\n",
    "                    'X_test': X_test,\n",
    "                    'y_test': y_test,\n",
    "                },\n",
    "                pfile, pickle.HIGHEST_PROTOCOL)\n",
    "    except Exception as e:\n",
    "        print('Unable to save data to', pickle_file, ':', e)\n",
    "        raise\n",
    "\n",
    "print('Data cached in pickle file.')"
   ]
  },
  {
   "cell_type": "code",
   "execution_count": null,
   "metadata": {
    "collapsed": true
   },
   "outputs": [],
   "source": []
  }
 ],
 "metadata": {
  "anaconda-cloud": {},
  "kernelspec": {
   "display_name": "Python [conda env:SDCND1.0]",
   "language": "python",
   "name": "conda-env-SDCND1.0-py"
  },
  "language_info": {
   "codemirror_mode": {
    "name": "ipython",
    "version": 3
   },
   "file_extension": ".py",
   "mimetype": "text/x-python",
   "name": "python",
   "nbconvert_exporter": "python",
   "pygments_lexer": "ipython3",
   "version": "3.5.2"
  },
  "widgets": {
   "state": {},
   "version": "1.1.2"
  }
 },
 "nbformat": 4,
 "nbformat_minor": 1
}
